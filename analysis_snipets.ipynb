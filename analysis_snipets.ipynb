{
 "cells": [
  {
   "cell_type": "code",
   "execution_count": 1,
   "metadata": {
    "collapsed": false
   },
   "outputs": [
    {
     "name": "stderr",
     "output_type": "stream",
     "text": [
      "/Users/a_oka/.pyenv/versions/anaconda3-4.3.1/lib/python3.6/site-packages/sklearn/cross_validation.py:44: DeprecationWarning: This module was deprecated in version 0.18 in favor of the model_selection module into which all the refactored classes and functions are moved. Also note that the interface of the new CV iterators are different from that of this module. This module will be removed in 0.20.\n",
      "  \"This module will be removed in 0.20.\", DeprecationWarning)\n",
      "/Users/a_oka/.pyenv/versions/anaconda3-4.3.1/lib/python3.6/site-packages/sklearn/grid_search.py:43: DeprecationWarning: This module was deprecated in version 0.18 in favor of the model_selection module into which all the refactored classes and functions are moved. This module will be removed in 0.20.\n",
      "  DeprecationWarning)\n"
     ]
    }
   ],
   "source": [
    "import pandas as pd\n",
    "import matplotlib.pyplot as plt\n",
    "import seaborn as sn\n",
    "from sklearn.metrics import confusion_matrix\n",
    "from sklearn.cluster import KMeans\n",
    "from sklearn.ensemble import RandomForestClassifier\n",
    "from sklearn.cross_validation import train_test_split\n",
    "from sklearn.grid_search import GridSearchCV\n",
    "from IPython.display import display \n",
    "\n",
    "%matplotlib inline\n",
    "plt.style.use('ggplot')\n",
    "plt.rcParams['font.family'] = 'IPAexGothic'"
   ]
  },
  {
   "cell_type": "code",
   "execution_count": 3,
   "metadata": {
    "collapsed": true
   },
   "outputs": [],
   "source": [
    "# HML kmeansクラスタリング\n",
    "# クラスタ結果の表示、クラスタ番号を平均の高い順に変更する\n",
    "\n",
    "def hml_kmeans(clst_list, n_clst):\n",
    "    RANDOM_STATE = 123\n",
    "    vector_array = np.array(clst_list)\n",
    "    ROWS_NUM = len(vector_array)\n",
    "    vector_array = vector_array.reshape(ROWS_NUM, 1)\n",
    "    \n",
    "    clusters = KMeans(n_clusters=n_clst, random_state=RANDOM_STATE).fit_predict(vector_array)\n",
    "    \n",
    "    # 元のリストとクラスタでpd.DataFrameの作成\n",
    "    clst_df = pd.DataFrame({\"var\": clst_list, \"cluster\": clusters})\n",
    "    \n",
    "    # クラスタ毎の統計量を確認し、デフォルトではmeanでクラスタ番号を昇順に\n",
    "    clst_result = clst_df.groupby([\"cluster\"])[\"var\"].agg([\"mean\", \"count\", \"min\", \"max\", \"median\"]).reset_index()\n",
    "    clst_result['rank_by_mean'] = clst_result[\"mean\"].rank(ascending=False).astype(\"int\")\n",
    "    display(clst_result)\n",
    "    convert_rules = dict(clst_result.set_index(\"cluster\").rank_by_mean)\n",
    "    \n",
    "    clst_df[\"cluster\"] = list(clst_df[\"cluster\"].map(convert_rules))\n",
    "    \n",
    "    # クラスタで色分けしてプロットしてみる\n",
    "    tmp_hist = clst_df.sort_values(by='var', ascending=False).reset_index(drop=True).groupby([\"cluster\"])[\"var\"]\n",
    "    display(tmp_hist.plot())\n",
    "    \n",
    "    return clst_df[\"cluster\"]
   ]
  },
  {
   "cell_type": "code",
   "execution_count": null,
   "metadata": {
    "collapsed": true
   },
   "outputs": [],
   "source": [
    "def print_cmx(y_true, y_pred, labels):\n",
    "    cmx_data = confusion_matrix(y_true, y_pred, labels=labels)\n",
    "    print(cmx_data)\n",
    "    df_cmx = pd.DataFrame(cmx_data, index=labels, columns=labels)\n",
    "\n",
    "    plt.figure(figsize = (6,4.5))\n",
    "    plt.rcParams['font.size'] = 15\n",
    "    sn.heatmap(df_cmx,cmap='Reds', annot=True, fmt=\"d\", xticklabels=True, yticklabels=True)\n",
    "    #plt.savefig('heatmap.png')\n",
    "    ax = plt.gca()\n",
    "    ax.xaxis.set_ticks_position(\"top\") # x軸目盛りは軸の上、bottomで下になる\n",
    "    ax.set_yticklabels(reversed(labels), rotation=0)\n",
    "    ax.set_xlabel(\"predicted label\")\n",
    "    ax.set_ylabel(\"real label\")\n",
    "    plt.show()"
   ]
  },
  {
   "cell_type": "code",
   "execution_count": null,
   "metadata": {
    "collapsed": true
   },
   "outputs": [],
   "source": [
    "def RF_classifier(df, y_column, feature_columns, test_rate):\n",
    "    \n",
    "    # 説明変数、目的変数の作成    \n",
    "    X =df.loc[:, feature_columns ].values\n",
    "    Y = df.loc[:, y_column].values\n",
    "    \n",
    "    # 学習用、検証用データに分割\n",
    "    (X_train, X_test, Y_train, Y_test) = train_test_split(X, Y, test_size = test_rate, random_state = 123)\n",
    "    \n",
    "    '''\n",
    "    # モデル構築、パラメータはデフォルト\n",
    "    parameters = {\n",
    "        'n_estimators'      : [5, 10, 20, 30, 50],\n",
    "        'max_features'      : [3, 5, 10, 15, 20],\n",
    "        'random_state'      : [0],\n",
    "        'n_jobs'            : [2],\n",
    "        'min_samples_split' : [3, 5, 10, 15, 20, 25, 30],\n",
    "        'max_depth'         : [3, 5, 10, 15, 20, 25, 30, 50, 100]\n",
    "    }\n",
    "    \n",
    "    clf = GridSearchCV(RandomForestClassifier(), parameters)\n",
    "    clf.fit(X_train, Y_train)\n",
    "    print(clf.best_estimator_)'''\n",
    "    \n",
    "    model = RandomForestClassifier(n_estimators=20, max_depth=4, max_features=None, bootstrap=False)\n",
    "    \n",
    "    print( model.get_params()) \n",
    "    model.fit( X_train, Y_train )\n",
    "    \n",
    "    # 正解率\n",
    "    print( \"正解率 : \" + str(model.score( X_test, Y_test ) * 100) + \"%\" )  \n",
    "    print( \"訓練データの正解率 : \" + str(model.score( X_train, Y_train ) * 100) + \"%\" )  \n",
    "    \n",
    "    # confusion matrix　を確認する\n",
    "    print( \"confusion matrix\")\n",
    "    prediction = model.predict(X_test)\n",
    "    labels = list(set(Y))\n",
    "    print_cmx(Y_test, prediction, labels)\n",
    "    \n",
    "    # 効いてる変数を順に並べる\n",
    "    importances = pd.DataFrame( \n",
    "        {\n",
    "            'variable':feature_columns, \n",
    "            'importance':model.feature_importances_\n",
    "        }\n",
    "    ).sort_values('importance', ascending=False).reset_index(drop=True)\n",
    "    display(importances)\n",
    "    \n",
    "    IMP = importances.copy()\n",
    "    plt.figure(figsize=(5, 7))\n",
    "    plt.plot(IMP.importance, sorted([i + 1 for i in range(IMP.shape[0])], reverse=True), 'o-')\n",
    "    plt.yticks(sorted([i + 1 for i in range(IMP.shape[0])], reverse=True), IMP.variable)\n",
    "    plt.xlabel('importance')\n",
    "    #plt.xlabel('重要度')\n",
    "    plt.show()\n",
    "    \n",
    "    return importances \n",
    "\n"
   ]
  }
 ],
 "metadata": {
  "kernelspec": {
   "display_name": "Python 3",
   "language": "python",
   "name": "python3"
  },
  "language_info": {
   "codemirror_mode": {
    "name": "ipython",
    "version": 3
   },
   "file_extension": ".py",
   "mimetype": "text/x-python",
   "name": "python",
   "nbconvert_exporter": "python",
   "pygments_lexer": "ipython3",
   "version": "3.6.0"
  }
 },
 "nbformat": 4,
 "nbformat_minor": 2
}
